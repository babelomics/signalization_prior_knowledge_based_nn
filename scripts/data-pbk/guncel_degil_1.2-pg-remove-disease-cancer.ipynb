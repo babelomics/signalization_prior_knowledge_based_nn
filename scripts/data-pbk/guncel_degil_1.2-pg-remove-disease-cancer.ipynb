{
 "cells": [
  {
   "cell_type": "code",
   "execution_count": 1,
   "metadata": {},
   "outputs": [],
   "source": [
    "import os, sys\n",
    "ROOT_DIR = os.path.dirname(os.path.dirname(os.path.dirname(os.path.abspath('__file__'))))\n",
    "os.chdir(ROOT_DIR)\n",
    "sys.path.append(ROOT_DIR)"
   ]
  },
  {
   "cell_type": "code",
   "execution_count": 2,
   "metadata": {},
   "outputs": [
    {
     "name": "stdout",
     "output_type": "stream",
     "text": [
      "(config/settings) DIR_ROOT   , /home/pgundogdu/projects/doc_p1_NN_with_pathways\n",
      "(config/settings) DIR_CONFIG , ./config\n",
      "(config/settings) DIR_DATA   , ./data\n",
      "(config/settings) DIR_MODELS , ./models\n",
      "(config/settings) DIR_REPORTS, ./reports\n"
     ]
    }
   ],
   "source": [
    "import pandas as pd\n",
    "import numpy as np\n",
    "from config import settings as st\n",
    "from config import path_operations as po\n",
    "\n",
    "# defining output folder\n",
    "output_folder = po.define_folder(os.path.join(st.DIR_DATA_PROCESSED, 'hsa/hipathia'))"
   ]
  },
  {
   "cell_type": "code",
   "execution_count": 3,
   "metadata": {},
   "outputs": [
    {
     "name": "stdout",
     "output_type": "stream",
     "text": [
      "RAW dataset,\n",
      "Shape, (146, 2)\n",
      ".head()     path.id               path.name\n",
      "0  hsa03320  PPAR signaling pathway\n",
      "1  hsa03460  Fanconi anemia pathway\n",
      "2  hsa04010  MAPK signaling pathway\n",
      "3  hsa04012  ErbB signaling pathway\n",
      "4  hsa04014   Ras signaling pathway\n"
     ]
    }
   ],
   "source": [
    "# importing raw dataset which is imported by hipathia\n",
    "df_hp = pd.read_csv(os.path.join(st.DIR_DATA_RAW, 'hsa/hipathia/pathway_ids_and_names.csv'))\n",
    "print('RAW dataset,')\n",
    "print('Shape,', df_hp.shape)\n",
    "print('.head()', df_hp.head())"
   ]
  },
  {
   "cell_type": "code",
   "execution_count": 4,
   "metadata": {},
   "outputs": [
    {
     "name": "stdout",
     "output_type": "stream",
     "text": [
      "RAW dataset is filtered by \"keywords\" list!\n",
      "Shape, (107, 2)\n"
     ]
    }
   ],
   "source": [
    "# FILTERING #1\n",
    "# filtering raw dataset according to keyword, shared in below\n",
    "keywords_ = ['disease', 'cancer', 'leukemia', 'infection', 'virus','addiction', 'anemia', 'cell carcinoma', 'diabet', 'Hepatitis']\n",
    "df_hp = df_hp.loc[~df_hp['path.name'].str.contains('|'.join(keywords_))]\n",
    "print('RAW dataset is filtered by \"keywords\" list!')\n",
    "print('Shape,', df_hp.shape)"
   ]
  },
  {
   "cell_type": "code",
   "execution_count": 5,
   "metadata": {},
   "outputs": [
    {
     "name": "stdout",
     "output_type": "stream",
     "text": [
      "RAW dataset is filtered by \"additional_disease\" list!\n",
      "Shape, (93, 2)\n"
     ]
    }
   ],
   "source": [
    "# FILTERING #2\n",
    "# filtering again according to remained disease name, shared in below\n",
    "additional_disease = ['Long-term depression', 'Insulin resistance', 'Amyotrophic lateral sclerosis (ALS)', 'Alcoholism', 'Shigellosis'\n",
    "                      , 'Pertussis', 'Legionellosis', 'Leishmaniasis', 'Toxoplasmosis', 'Tuberculosis', 'Measles', 'Influenza A'\n",
    "                      , 'Glioma', 'Melanoma']\n",
    "\n",
    "df_hp = df_hp.loc[~df_hp['path.name'].isin(additional_disease)]\n",
    "print('RAW dataset is filtered by \"additional_disease\" list!')\n",
    "print('Shape,', df_hp.shape)"
   ]
  },
  {
   "cell_type": "code",
   "execution_count": 6,
   "metadata": {},
   "outputs": [],
   "source": [
    "# exporting processed dataset\n",
    "# df_hp.to_csv(os.path.join(output_folder, 'pathway_ids_and_names.csv'), index=False)"
   ]
  }
 ],
 "metadata": {
  "kernelspec": {
   "display_name": "Python 3",
   "language": "python",
   "name": "python3"
  },
  "language_info": {
   "codemirror_mode": {
    "name": "ipython",
    "version": 3
   },
   "file_extension": ".py",
   "mimetype": "text/x-python",
   "name": "python",
   "nbconvert_exporter": "python",
   "pygments_lexer": "ipython3",
   "version": "3.7.9"
  }
 },
 "nbformat": 4,
 "nbformat_minor": 4
}
