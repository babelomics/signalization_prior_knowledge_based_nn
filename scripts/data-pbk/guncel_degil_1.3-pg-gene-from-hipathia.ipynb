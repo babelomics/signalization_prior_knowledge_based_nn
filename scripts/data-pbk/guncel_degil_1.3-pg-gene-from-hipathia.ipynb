{
 "cells": [
  {
   "cell_type": "code",
   "execution_count": 2,
   "metadata": {},
   "outputs": [
    {
     "data": {
      "text/html": [
       "'/home/pgundogdu/projects/doc_p1_NN_with_pathways'"
      ],
      "text/latex": [
       "'/home/pgundogdu/projects/doc\\_p1\\_NN\\_with\\_pathways'"
      ],
      "text/markdown": [
       "'/home/pgundogdu/projects/doc_p1_NN_with_pathways'"
      ],
      "text/plain": [
       "[1] \"/home/pgundogdu/projects/doc_p1_NN_with_pathways\""
      ]
     },
     "metadata": {},
     "output_type": "display_data"
    }
   ],
   "source": [
    "library(package = 'tidyverse', quietly = TRUE)\n",
    "library(package = 'hipathia', quietly = TRUE) # hipathia package\n",
    "library(package = 'reticulate', quietly = TRUE) # embedding a Python session within R session\n",
    "\n",
    "# Enabling Python environment\n",
    "# use_python(\"/opt/anaconda3/bin/python\")\n",
    "use_virtualenv(\"gpu_env\")\n",
    "\n",
    "setwd('/home/pgundogdu/projects/doc_p1_NN_with_pathways/')\n",
    "getwd()"
   ]
  },
  {
   "cell_type": "code",
   "execution_count": 3,
   "metadata": {},
   "outputs": [],
   "source": [
    "# importing py script\n",
    "src_script<-py_run_file('./config/settings.py')\n",
    "po <- py_run_file(file.path(src_script$DIR_CONFIG, 'path_operations.py'))\n",
    "\n",
    "# # defining species of\n",
    "species = 'hsa'"
   ]
  },
  {
   "cell_type": "code",
   "execution_count": 4,
   "metadata": {},
   "outputs": [],
   "source": [
    "# creating output folders\n",
    "output_folder_raw = po$define_folder(file.path(loaded_script$DIR_DATA_RAW, species, 'hipathia'))\n",
    "output_folder_processed = po$define_folder(file.path(loaded_script$DIR_DATA_PROCESSED, species, 'hipathia'))\n",
    "output_folder_detail = po$define_folder(file.path(loaded_script$DIR_DATA_PROCESSED, species, 'hipathia', 'details'))\n",
    "\n",
    "# importing pathway information file\n",
    "dataset_hp <- read.table(file.path(src_script$DIR_DATA_PROCESSED, species, 'hipathia', 'pathway_ids_and_names.csv'), sep=',', header=TRUE)\n",
    "\n",
    "# loading pathways \n",
    "pathways <- load_pathways(species = species)"
   ]
  },
  {
   "cell_type": "code",
   "execution_count": 7,
   "metadata": {},
   "outputs": [
    {
     "name": "stdout",
     "output_type": "stream",
     "text": [
      "[1] \"ALL SIGNALING PATHWAYS\"\n",
      "[1] \"Number of pathway      , 146\"\n",
      "[1] \"Number of sub-pathways , 6826\"\n",
      "[1] \" \"\n",
      "[1] \"SIGNALING PATHWAYS WITHOUT CANCER/DISEASE\"\n",
      "[1] \"Number of pathway      , 93\"\n",
      "[1] \"Number of sub-pathways , 4502\"\n"
     ]
    }
   ],
   "source": [
    "# Loaded 146 pathways\n",
    "paste0('Number of pathway      , ', length(unique(df_pathways$path.id)) )\n",
    "paste0('Number of sub-pathways , ', nrow(df_pathways))\n",
    "# [1] \"Number of pathway      , 146\"\n",
    "# [1] \"Number of sub-pathways , 6826\"\n",
    "\n",
    "print(' ')\n",
    "print('SIGNALING PATHWAYS WITHOUT CANCER/DISEASE')\n",
    "df_pathways = merge(dataset_hp, df_pathways)\n",
    "print(paste0('Number of pathway      , ', nrow(dataset_hp)))\n",
    "print(paste0('Number of sub-pathways , ', nrow(df_pathways)))\n",
    "list_path_id = unique(df_pathways$path.id)\n",
    "# [1] \"SIGNALING PATHWAYS WITHOUT CANCER/DISEASE\"\n",
    "# [1] \"Number of pathway      , 93\"\n",
    "# [1] \"Number of sub-pathways , 4502\"\n",
    "\n",
    "# print(list_path_id[1])\n",
    "# list_path_id"
   ]
  },
  {
   "cell_type": "raw",
   "metadata": {},
   "source": [
    "# V(\n",
    "    pathways$pathigraphs[[list_path_id[93]]]$effector.subgraphs[['P-hsa05100-24']][1]\n",
    "#  )$genesList\n",
    "# V(pathways$pathigraphs[[list_path_id[all_pathways_]]]$effector.subgraphs[[sub_pathways_]])$genesList"
   ]
  },
  {
   "cell_type": "code",
   "execution_count": null,
   "metadata": {},
   "outputs": [],
   "source": [
    "# GETTING GENE LIST\n",
    "\n",
    "# Creating empty data frame to store genes\n",
    "df_gene <- data.frame(pathways$all.genes)\n",
    "# updating column name as 'entrez'\n",
    "colnames(df_gene) = c('entrez')\n",
    "l_gene_final<-c()\n",
    "\n",
    "# for (all_pathways_ in c(1:length(list_path_id))) {\n",
    "for (all_pathways_ in c(1:2)) {\n",
    "    \n",
    "    df_merge = df_gene\n",
    "    l_main<-c()\n",
    "    \n",
    "#     getting sub-pathway\n",
    "    length_subpathways = length(pathways$pathigraphs[[list_path_id[all_pathways_]]]$effector.subgraphs)\n",
    "#     number of sub-pathway in \n",
    "    print(length_subpathways)\n",
    "#     details for sub-pathway\n",
    "    for (sub_pathways_ in c(1:length_subpathways)) {\n",
    "        l_sub<-c()\n",
    "        genes_circuits = V(pathways$pathigraphs[[list_path_id[all_pathways_]]]$effector.subgraphs[[sub_pathways_]])$genesList\n",
    "        sub_path_name = names(pathways$pathigraphs[[list_path_id[all_pathways_]]]$effector.subgraphs[sub_pathways_][1])\n",
    "#         name of sub-patway\n",
    "        print(sub_path_name)\n",
    "        for (sub_circuits in c(1:length(genes_circuits))){\n",
    "            for (genes_ in c(1:length(genes_circuits[sub_circuits][1][[1]]))){\n",
    "                gene_value = genes_circuits[sub_circuits][1][[1]][genes_]\n",
    "                if (!is.na(gene_value) && gene_value != '/' && (gene_value == 'NA') == FALSE){\n",
    "                    l_sub <-append(l_sub,gene_value)\n",
    "                }\n",
    "            }\n",
    "            l_sub = unique(l_sub)\n",
    "        }\n",
    "#             Combining genes obtaining from sub-pathways\n",
    "        if (length(l_sub) != 0) {\n",
    "            l_main<-append(l_main, l_sub)\n",
    "            df_temp <- data.frame(l_sub, 1)\n",
    "            names(df_temp) = c('entrez', sub_path_name)\n",
    "            print(df_temp)\n",
    "        }\n",
    "#         Inner join\n",
    "        df_merge = merge(df_temp,df_merge, by='entrez', all=T)\n",
    "#         print(df_merge)\n",
    "    }\n",
    "    l_main = unique(l_main)\n",
    "#     Assigning all NA's as 0\n",
    "#     df_merge[s.na(df_merge)] <- 0\n",
    "    df_merge[!is.na(df_merge)] \n",
    "#     x[!is.na(x)]\n",
    "    indices_genes <- as.vector(which(df_merge$entrez %in% l_main, arr.ind = TRUE))\n",
    "#     1L * df_merge$entrez %in% c('info', l_main)\n",
    "    df_path_genes <- (df_merge[c(indices_genes), ])\n",
    "    rownames(df_path_genes) <- 1:nrow(df_path_genes)\n",
    "    l_gene_final = append(l_gene_final, l_main)\n",
    "#     print(length(l_gene_final))\n",
    "#     Exporting gene set of each pathways (93 txt file for using pathways for hsa)\n",
    "#     write.table(df_path_genes, paste0(output_folder_detail,list_path_id[all_pathways_],'_gene_list.txt'), sep=',', row.names=FALSE)\n",
    "}\n",
    "    \n",
    "# write.table(df_gene$entrez[(df_gene$entrez) != 'NA'], paste0(output_folder_raw,'gene_list_all.csv'),sep=',',row.names = FALSE)\n",
    "# write.table(unique(l_gene_final), paste0(output_folder_processed,'gene_list.csv'),sep=',', row.names = FALSE)\n",
    "\n",
    "# print(paste0('THE GENES LIST EXPORTED!!! - ', output_folder,'gene_list_all.csv and', output_folder,'gene_list.csv'))"
   ]
  }
 ],
 "metadata": {
  "kernelspec": {
   "display_name": "R",
   "language": "R",
   "name": "ir"
  },
  "language_info": {
   "codemirror_mode": "r",
   "file_extension": ".r",
   "mimetype": "text/x-r-source",
   "name": "R",
   "pygments_lexer": "r",
   "version": "4.0.3"
  }
 },
 "nbformat": 4,
 "nbformat_minor": 4
}
