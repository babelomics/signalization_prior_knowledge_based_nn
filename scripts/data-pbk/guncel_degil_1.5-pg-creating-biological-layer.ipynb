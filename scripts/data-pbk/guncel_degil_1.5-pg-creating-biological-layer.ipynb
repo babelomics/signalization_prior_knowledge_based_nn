{
 "cells": [
  {
   "cell_type": "code",
   "execution_count": 1,
   "metadata": {},
   "outputs": [],
   "source": [
    "import os, sys, glob\n",
    "ROOT_DIR = os.path.dirname(os.path.dirname(os.path.dirname(os.path.abspath('__file__'))))\n",
    "os.chdir(ROOT_DIR)\n",
    "sys.path.append(ROOT_DIR)"
   ]
  },
  {
   "cell_type": "code",
   "execution_count": 2,
   "metadata": {},
   "outputs": [
    {
     "name": "stdout",
     "output_type": "stream",
     "text": [
      "config/settings.py IMPORTED!!!\n"
     ]
    }
   ],
   "source": [
    "import pandas as pd\n",
    "import numpy as np\n",
    "from config import settings as st\n",
    "from config import path_operations as po\n",
    "\n",
    "# defining output folder\n",
    "\n",
    "str(sys.argv[1]), str(sys.argv[2])\n",
    "\n",
    "output_folder = po.define_folder(os.path.join(st.DIR_DATA_PROCESSED, 'hsa/hipathia'))"
   ]
  },
  {
   "cell_type": "code",
   "execution_count": 71,
   "metadata": {},
   "outputs": [
    {
     "name": "stdout",
     "output_type": "stream",
     "text": [
      "./data/processed/hsa/hipathia/\n",
      "(2987, 2)\n",
      "     gene_id   symbol\n",
      "0      10000     AKT3\n",
      "1      10010     TANK\n",
      "2  100132074    FOXO6\n",
      "3  100132285  KIR2DS2\n",
      "4  100132463   CLDN24\n",
      "Checking NA values, number of NA values,  0\n"
     ]
    }
   ],
   "source": [
    "species = 'hsa'\n",
    "source = 'hipathia'\n",
    "\n",
    "# defining output folder\n",
    "output_folder = po.define_folder( os.path.join(st.DIR_DATA_PROCESSED, species, source ) )\n",
    "print(output_folder)\n",
    "# importing raw dataset which is imported by hipathia\n",
    "df_entrez_symbol = pd.read_csv(os.path.join(st.DIR_DATA_PROCESSED, species, source, 'entrez_and_symbol.csv'))\n",
    "print(df_entrez_symbol.shape)\n",
    "print(df_entrez_symbol.head())\n",
    "\n",
    "print('Checking NA values, number of NA values, ', len(df_entrez_symbol.loc[df_entrez_symbol['symbol'].isna()]))"
   ]
  },
  {
   "cell_type": "code",
   "execution_count": 73,
   "metadata": {},
   "outputs": [
    {
     "name": "stdout",
     "output_type": "stream",
     "text": [
      "The prior biological knowledge layer EXPORTED!! - ./data/processed/hsa/hipathia/bio_layer.txt\n"
     ]
    }
   ],
   "source": [
    "for i_pathway in sorted(glob.glob(os.path.join(st.DIR_DATA_PROCESSED, species, source, 'details/*gene_list.txt'))):\n",
    "#     Reading selected pathways which shows the gene relation for each circuits\n",
    "    df_i_pathway = pd.read_csv(i_pathway, index_col=0).fillna(value=0)\n",
    "#     Replace columns names which is circuit name with pathway name\n",
    "    df_i_pathway.columns = [pw[1] for pw in df_i_pathway.columns.str.split('-')]\n",
    "#     Grouping all circuit as pathway representation\n",
    "    df_i_pathway = df_i_pathway.groupby(df_i_pathway.columns, axis=1).max()\n",
    "#     Merging entrez_and_symbol dataset with pathway information dataset\n",
    "    df_entrez_symbol = pd.merge(left=df_entrez_symbol, right=df_i_pathway, left_on='gene_id', right_index=True, how='left')\n",
    "    df_entrez_symbol.fillna(value=0, inplace=True)\n",
    "\n",
    "# Updating 'symbol' values as lowercase\n",
    "df_entrez_symbol['symbol'] = df_entrez_symbol['symbol'].str.lower()    \n",
    "df_entrez_symbol.drop(columns=['gene_id'], inplace=True)\n",
    "\n",
    "# EXPORTING - the prior biological knowledge layer\n",
    "print('The prior biological knowledge layer EXPORTED!! - {}'.format(os.path.join(st.DIR_DATA_PROCESSED, species, source, 'bio_layer.txt')))\n",
    "df_entrez_symbol.to_csv(os.path.join(st.DIR_DATA_PROCESSED, species, source, 'bio_layer.txt'), index=False)"
   ]
  }
 ],
 "metadata": {
  "kernelspec": {
   "display_name": "Python 3",
   "language": "python",
   "name": "python3"
  },
  "language_info": {
   "codemirror_mode": {
    "name": "ipython",
    "version": 3
   },
   "file_extension": ".py",
   "mimetype": "text/x-python",
   "name": "python",
   "nbconvert_exporter": "python",
   "pygments_lexer": "ipython3",
   "version": "3.7.9"
  }
 },
 "nbformat": 4,
 "nbformat_minor": 4
}
