{
 "cells": [
  {
   "cell_type": "code",
   "execution_count": 1,
   "metadata": {},
   "outputs": [
    {
     "name": "stdout",
     "output_type": "stream",
     "text": [
      "scripts/settings.py - PATHS IMPORTED!!!\n"
     ]
    }
   ],
   "source": [
    "#!/usr/bin/env python\n",
    "\n",
    "'''\n",
    "DESCRIPTION\n",
    "-----------\n",
    "    Preprocessing raw dataset -> applying scaling, filtering genes.\n",
    "    \n",
    "RETURN\n",
    "------\n",
    "    {DATASET}_{SCALE}.pck : pck file\n",
    "        Preprocessed file\n",
    "\n",
    "EXPORTED FILE(s) LOCATION\n",
    "-------------------------\n",
    "    ./data/processed/{EXPERIMENT}/{DATASET}_{SCALE}.pck\n",
    "'''\n",
    "\n",
    "# importing default libraries\n",
    "# import os, argparse, sys\n",
    "# sys.path.append('./')\n",
    "import os, sys\n",
    "ROOT_DIR = os.path.dirname(os.path.dirname(os.path.abspath('__file__')))\n",
    "os.chdir(ROOT_DIR)\n",
    "sys.path.append(ROOT_DIR)\n",
    "# importing scripts in scripts folder\n",
    "from scripts import settings as ssrp, dataset_scripts as dsrp, path_scripts as psrp, model_scripts as msrp\n",
    "# importing default libraries\n",
    "import pandas as pd\n",
    "import numpy as np\n",
    "from sklearn.preprocessing import *\n",
    "import pyreadr # imported to read .rds files"
   ]
  },
  {
   "cell_type": "code",
   "execution_count": 69,
   "metadata": {},
   "outputs": [],
   "source": [
    "target_column_index  = -1\n",
    "dataset              = 'Immune.pck'\n",
    "bio_knowledge        = 'pbk_layer_hsa.txt'\n",
    "experiment           = 'exper_pbmc'\n",
    "scale                = StandardScaler()# FunctionTransformer(np.log1p) #etc, MinMaxScaler(), StandardScaler()"
   ]
  },
  {
   "cell_type": "code",
   "execution_count": 70,
   "metadata": {},
   "outputs": [
    {
     "name": "stdout",
     "output_type": "stream",
     "text": [
      "Immune_StandardScaler.pck\n",
      "FILE FORMAT,  pck\n"
     ]
    }
   ],
   "source": [
    "# Importing all prior biological knowledge and combine all genes to create a common gene list\n",
    "list_gene = None\n",
    "if (bio_knowledge!=None):\n",
    "    df_bio = pd.DataFrame(pd.read_csv(os.path.join(ssrp.DIR_DATA_PROCESSED, bio_knowledge)))\n",
    "    list_gene = list(df_bio['symbol'])\n",
    "\n",
    "# the output location\n",
    "loc_output = os.path.join(ssrp.DIR_DATA_PROCESSED, experiment)\n",
    "psrp.define_folder(loc_=loc_output)\n",
    "\n",
    "# getting scaling information to include into name of the file\n",
    "sc_text = str(type(scale)).split(\"'\")[1].split(\".\")[-1]\n",
    "for k, i in scale.get_params().items():\n",
    "    if k=='func':\n",
    "        sc_text = scale.func.__name__\n",
    "\n",
    "file_name_output = '.'.join(dataset.split('.')[:-1])+'_'+sc_text+'.pck'\n",
    "print(file_name_output)\n",
    "print('FILE FORMAT, ', dataset.split('.')[1])\n",
    "if dataset.split('.')[1]=='rds':\n",
    "    df_raw = pyreadr.read_r(os.path.join(ssrp.DIR_DATA_EXTERNAL, experiment, dataset))[None]\n",
    "elif dataset.split('.')[1]=='pck':\n",
    "    df_raw = pd.read_pickle(os.path.join(ssrp.DIR_DATA_EXTERNAL, experiment, dataset))\n",
    "    df_raw = pd.concat([(df_raw.iloc[:, :-1]).astype(float) ,df_raw.iloc[:, -1]], axis=1)\n",
    "else:\n",
    "    df_raw = pd.read_csv(os.path.join(ssrp.DIR_DATA_EXTERNAL, experiment, dataset))"
   ]
  },
  {
   "cell_type": "code",
   "execution_count": 6,
   "metadata": {},
   "outputs": [
    {
     "name": "stdout",
     "output_type": "stream",
     "text": [
      "<class 'pandas.core.frame.DataFrame'>\n",
      "RangeIndex: 3412 entries, 0 to 3411\n",
      "Columns: 17995 entries, A1BG to label\n",
      "dtypes: float64(17994), object(1)\n",
      "memory usage: 468.4+ MB\n"
     ]
    }
   ],
   "source": [
    "df_raw.info()"
   ]
  },
  {
   "cell_type": "code",
   "execution_count": 72,
   "metadata": {
    "collapsed": true,
    "jupyter": {
     "outputs_hidden": true
    }
   },
   "outputs": [
    {
     "ename": "KeyError",
     "evalue": "('a1bg', 'a1cf', 'a2m', 'a2ml1')",
     "output_type": "error",
     "traceback": [
      "\u001b[0;31m---------------------------------------------------------------------------\u001b[0m",
      "\u001b[0;31mKeyError\u001b[0m                                  Traceback (most recent call last)",
      "\u001b[0;32m~/.conda/envs/gpu_env/lib/python3.7/site-packages/pandas/core/indexes/base.py\u001b[0m in \u001b[0;36mget_loc\u001b[0;34m(self, key, method, tolerance)\u001b[0m\n\u001b[1;32m   2894\u001b[0m             \u001b[0;32mtry\u001b[0m\u001b[0;34m:\u001b[0m\u001b[0;34m\u001b[0m\u001b[0;34m\u001b[0m\u001b[0m\n\u001b[0;32m-> 2895\u001b[0;31m                 \u001b[0;32mreturn\u001b[0m \u001b[0mself\u001b[0m\u001b[0;34m.\u001b[0m\u001b[0m_engine\u001b[0m\u001b[0;34m.\u001b[0m\u001b[0mget_loc\u001b[0m\u001b[0;34m(\u001b[0m\u001b[0mcasted_key\u001b[0m\u001b[0;34m)\u001b[0m\u001b[0;34m\u001b[0m\u001b[0;34m\u001b[0m\u001b[0m\n\u001b[0m\u001b[1;32m   2896\u001b[0m             \u001b[0;32mexcept\u001b[0m \u001b[0mKeyError\u001b[0m \u001b[0;32mas\u001b[0m \u001b[0merr\u001b[0m\u001b[0;34m:\u001b[0m\u001b[0;34m\u001b[0m\u001b[0;34m\u001b[0m\u001b[0m\n",
      "\u001b[0;32mpandas/_libs/index.pyx\u001b[0m in \u001b[0;36mpandas._libs.index.IndexEngine.get_loc\u001b[0;34m()\u001b[0m\n",
      "\u001b[0;32mpandas/_libs/index.pyx\u001b[0m in \u001b[0;36mpandas._libs.index.IndexEngine.get_loc\u001b[0;34m()\u001b[0m\n",
      "\u001b[0;32mpandas/_libs/hashtable_class_helper.pxi\u001b[0m in \u001b[0;36mpandas._libs.hashtable.PyObjectHashTable.get_item\u001b[0;34m()\u001b[0m\n",
      "\u001b[0;32mpandas/_libs/hashtable_class_helper.pxi\u001b[0m in \u001b[0;36mpandas._libs.hashtable.PyObjectHashTable.get_item\u001b[0;34m()\u001b[0m\n",
      "\u001b[0;31mKeyError\u001b[0m: ('a1bg', 'a1cf', 'a2m', 'a2ml1')",
      "\nThe above exception was the direct cause of the following exception:\n",
      "\u001b[0;31mKeyError\u001b[0m                                  Traceback (most recent call last)",
      "\u001b[0;32m<ipython-input-72-df997a07ca81>\u001b[0m in \u001b[0;36m<module>\u001b[0;34m\u001b[0m\n\u001b[0;32m----> 1\u001b[0;31m \u001b[0mdf_raw\u001b[0m\u001b[0;34m[\u001b[0m\u001b[0;34m'a1bg'\u001b[0m\u001b[0;34m,\u001b[0m\u001b[0;34m'a1cf'\u001b[0m\u001b[0;34m,\u001b[0m\u001b[0;34m'a2m'\u001b[0m\u001b[0;34m,\u001b[0m\u001b[0;34m'a2ml1'\u001b[0m\u001b[0;34m]\u001b[0m\u001b[0;34m\u001b[0m\u001b[0;34m\u001b[0m\u001b[0m\n\u001b[0m",
      "\u001b[0;32m~/.conda/envs/gpu_env/lib/python3.7/site-packages/pandas/core/frame.py\u001b[0m in \u001b[0;36m__getitem__\u001b[0;34m(self, key)\u001b[0m\n\u001b[1;32m   2900\u001b[0m             \u001b[0;32mif\u001b[0m \u001b[0mself\u001b[0m\u001b[0;34m.\u001b[0m\u001b[0mcolumns\u001b[0m\u001b[0;34m.\u001b[0m\u001b[0mnlevels\u001b[0m \u001b[0;34m>\u001b[0m \u001b[0;36m1\u001b[0m\u001b[0;34m:\u001b[0m\u001b[0;34m\u001b[0m\u001b[0;34m\u001b[0m\u001b[0m\n\u001b[1;32m   2901\u001b[0m                 \u001b[0;32mreturn\u001b[0m \u001b[0mself\u001b[0m\u001b[0;34m.\u001b[0m\u001b[0m_getitem_multilevel\u001b[0m\u001b[0;34m(\u001b[0m\u001b[0mkey\u001b[0m\u001b[0;34m)\u001b[0m\u001b[0;34m\u001b[0m\u001b[0;34m\u001b[0m\u001b[0m\n\u001b[0;32m-> 2902\u001b[0;31m             \u001b[0mindexer\u001b[0m \u001b[0;34m=\u001b[0m \u001b[0mself\u001b[0m\u001b[0;34m.\u001b[0m\u001b[0mcolumns\u001b[0m\u001b[0;34m.\u001b[0m\u001b[0mget_loc\u001b[0m\u001b[0;34m(\u001b[0m\u001b[0mkey\u001b[0m\u001b[0;34m)\u001b[0m\u001b[0;34m\u001b[0m\u001b[0;34m\u001b[0m\u001b[0m\n\u001b[0m\u001b[1;32m   2903\u001b[0m             \u001b[0;32mif\u001b[0m \u001b[0mis_integer\u001b[0m\u001b[0;34m(\u001b[0m\u001b[0mindexer\u001b[0m\u001b[0;34m)\u001b[0m\u001b[0;34m:\u001b[0m\u001b[0;34m\u001b[0m\u001b[0;34m\u001b[0m\u001b[0m\n\u001b[1;32m   2904\u001b[0m                 \u001b[0mindexer\u001b[0m \u001b[0;34m=\u001b[0m \u001b[0;34m[\u001b[0m\u001b[0mindexer\u001b[0m\u001b[0;34m]\u001b[0m\u001b[0;34m\u001b[0m\u001b[0;34m\u001b[0m\u001b[0m\n",
      "\u001b[0;32m~/.conda/envs/gpu_env/lib/python3.7/site-packages/pandas/core/indexes/base.py\u001b[0m in \u001b[0;36mget_loc\u001b[0;34m(self, key, method, tolerance)\u001b[0m\n\u001b[1;32m   2895\u001b[0m                 \u001b[0;32mreturn\u001b[0m \u001b[0mself\u001b[0m\u001b[0;34m.\u001b[0m\u001b[0m_engine\u001b[0m\u001b[0;34m.\u001b[0m\u001b[0mget_loc\u001b[0m\u001b[0;34m(\u001b[0m\u001b[0mcasted_key\u001b[0m\u001b[0;34m)\u001b[0m\u001b[0;34m\u001b[0m\u001b[0;34m\u001b[0m\u001b[0m\n\u001b[1;32m   2896\u001b[0m             \u001b[0;32mexcept\u001b[0m \u001b[0mKeyError\u001b[0m \u001b[0;32mas\u001b[0m \u001b[0merr\u001b[0m\u001b[0;34m:\u001b[0m\u001b[0;34m\u001b[0m\u001b[0;34m\u001b[0m\u001b[0m\n\u001b[0;32m-> 2897\u001b[0;31m                 \u001b[0;32mraise\u001b[0m \u001b[0mKeyError\u001b[0m\u001b[0;34m(\u001b[0m\u001b[0mkey\u001b[0m\u001b[0;34m)\u001b[0m \u001b[0;32mfrom\u001b[0m \u001b[0merr\u001b[0m\u001b[0;34m\u001b[0m\u001b[0;34m\u001b[0m\u001b[0m\n\u001b[0m\u001b[1;32m   2898\u001b[0m \u001b[0;34m\u001b[0m\u001b[0m\n\u001b[1;32m   2899\u001b[0m         \u001b[0;32mif\u001b[0m \u001b[0mtolerance\u001b[0m \u001b[0;32mis\u001b[0m \u001b[0;32mnot\u001b[0m \u001b[0;32mNone\u001b[0m\u001b[0;34m:\u001b[0m\u001b[0;34m\u001b[0m\u001b[0;34m\u001b[0m\u001b[0m\n",
      "\u001b[0;31mKeyError\u001b[0m: ('a1bg', 'a1cf', 'a2m', 'a2ml1')"
     ]
    }
   ],
   "source": [
    "df_raw['a1bg','a1cf','a2m','a2ml1']"
   ]
  },
  {
   "cell_type": "code",
   "execution_count": 8,
   "metadata": {},
   "outputs": [
    {
     "name": "stdout",
     "output_type": "stream",
     "text": [
      "\n",
      "********* RAW DATASET *********\n",
      "experiment dataset shape     , (17293, 9438)\n",
      "\n",
      "len 2988\n",
      "   -> Common genes are filtered! 2988\n",
      "   -> StandardScaler() operation implemented!\n",
      "\n",
      "****** PROCESSED DATASET ******\n",
      "experiment dataset shape     , (17293, 1649)\n",
      "\n",
      "prior bio shape,  (2987, 94)\n",
      "Experiment datasets are exported into  ./data/processed/exper_mouse/mouse_retrieval_StandardScaler.pck\n"
     ]
    }
   ],
   "source": [
    "\n",
    "\n",
    "# Importing experiment dataset\n",
    "df = dsrp.ExperimentDataSet(experiment_dataset=df_raw\n",
    "                            , target_col_index=target_column_index\n",
    "                            , filter_gene=list_gene\n",
    "                            , scaler=scale).run()\n",
    "\n",
    "print('prior bio shape, ', df_bio.shape)\n",
    "# df_bio.head()\n",
    "\n",
    "# Exporting preprocessed dataset\n",
    "df.to_pickle(os.path.join(loc_output,  file_name_output ))\n",
    "print('Experiment datasets are exported into ', os.path.join(loc_output, file_name_output))"
   ]
  }
 ],
 "metadata": {
  "kernelspec": {
   "display_name": "Python 3",
   "language": "python",
   "name": "python3"
  },
  "language_info": {
   "codemirror_mode": {
    "name": "ipython",
    "version": 3
   },
   "file_extension": ".py",
   "mimetype": "text/x-python",
   "name": "python",
   "nbconvert_exporter": "python",
   "pygments_lexer": "ipython3",
   "version": "3.7.9"
  }
 },
 "nbformat": 4,
 "nbformat_minor": 4
}
