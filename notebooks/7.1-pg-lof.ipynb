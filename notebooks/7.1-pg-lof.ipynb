{
 "cells": [
  {
   "cell_type": "code",
   "execution_count": 1,
   "metadata": {},
   "outputs": [
    {
     "name": "stdout",
     "output_type": "stream",
     "text": [
      "scripts/settings.py - PATHS IMPORTED!!!\n"
     ]
    }
   ],
   "source": [
    "#!/usr/bin/env python\n",
    "\n",
    "'''\n",
    "DESCRIPTION\n",
    "-----------\n",
    "    LocalOutlierFactor with trained model\n",
    "\n",
    "RETURN\n",
    "------\n",
    "    {DATASET}_lof_seen.png : png file\n",
    "        Similarity scores of seen label\n",
    "    {DATASET}_lof_seen.png : png file\n",
    "        Similarity score of unseen label\n",
    "\n",
    "EXPORTED FILE(s) LOCATION\n",
    "-------------------------\n",
    "    ./reports/retrieval/{EXPERIMENT}/{DATASET}_lof_seen.png\n",
    "    ./reports/retrieval/{EXPERIMENT}/{DATASET}_lof_unseen.png\n",
    "'''\n",
    "\n",
    "# importing default libraries\n",
    "import os, argparse, sys\n",
    "# sys.path.append('./')\n",
    "ROOT_DIR = os.path.dirname(os.path.dirname(os.path.abspath('__file__')))\n",
    "os.chdir(ROOT_DIR)\n",
    "sys.path.append(ROOT_DIR)\n",
    "# importing scripts in scripts folder\n",
    "from scripts import settings as srp"
   ]
  },
  {
   "cell_type": "code",
   "execution_count": 2,
   "metadata": {},
   "outputs": [],
   "source": [
    "import pandas as pd\n",
    "import numpy as np\n",
    "import seaborn as sns\n",
    "import matplotlib.pyplot as plt\n",
    "\n",
    "from sklearn.model_selection import train_test_split\n",
    "from sklearn.preprocessing import OneHotEncoder\n",
    "from sklearn.manifold import TSNE\n",
    "from sklearn.neighbors import LocalOutlierFactor\n",
    "\n",
    "import warnings\n",
    "warnings.filterwarnings('ignore')\n",
    "\n",
    "TINY_SIZE = 8\n",
    "SMALL_SIZE = 10\n",
    "MEDIUM_SIZE = 16\n",
    "BIGGER_SIZE = 20\n",
    "\n",
    "plt.rc('font', size=MEDIUM_SIZE)         # controls default text sizes\n",
    "plt.rc('axes', titlesize=12)    # fontsize of the axes title\n",
    "plt.rc('axes', labelsize=12)     # fontsize of the x and y labels\n",
    "plt.rc('xtick', labelsize=SMALL_SIZE)     # fontsize of the tick labels\n",
    "plt.rc('ytick', labelsize=TINY_SIZE)     # fontsize of the tick labels\n",
    "plt.rc('legend', fontsize=SMALL_SIZE)    # legend fontsize\n",
    "plt.rc('legend', title_fontsize=SMALL_SIZE)    # legend fontsize\n",
    "plt.rc('figure', titlesize=MEDIUM_SIZE)  # fontsize of the figure title"
   ]
  },
  {
   "cell_type": "markdown",
   "metadata": {},
   "source": [
    "## MELANOMA"
   ]
  },
  {
   "cell_type": "code",
   "execution_count": 3,
   "metadata": {},
   "outputs": [
    {
     "data": {
      "text/plain": [
       "'./reports/retrieval/exper_melanoma/'"
      ]
     },
     "execution_count": 3,
     "metadata": {},
     "output_type": "execute_result"
    }
   ],
   "source": [
    "loc_output = srp.define_folder('./reports/retrieval/exper_melanoma')\n",
    "loc_output"
   ]
  },
  {
   "cell_type": "code",
   "execution_count": 4,
   "metadata": {},
   "outputs": [],
   "source": [
    "df_query = pd.read_pickle('./data/processed/exper_melanoma/query_log1p.pck')\n",
    "df_reference = pd.read_pickle('./data/processed/exper_melanoma/reference_log1p.pck')"
   ]
  },
  {
   "cell_type": "code",
   "execution_count": 5,
   "metadata": {},
   "outputs": [
    {
     "data": {
      "text/plain": [
       "(3412, 2878)"
      ]
     },
     "execution_count": 5,
     "metadata": {},
     "output_type": "execute_result"
    }
   ],
   "source": [
    "df_query.shape"
   ]
  },
  {
   "cell_type": "code",
   "execution_count": 6,
   "metadata": {},
   "outputs": [],
   "source": [
    "X_query = df_query.iloc[:, :-1].values\n",
    "y_ground_truth_query = df_query.iloc[:, -1:]\n",
    "\n",
    "X_reference = df_reference.iloc[:, :-1].values\n",
    "y_ground_truth_reference = df_reference.iloc[:, -1:]\n",
    "\n",
    "# order_train = sorted(list(set(y_train.values.reshape(1,-1)[0])))"
   ]
  },
  {
   "cell_type": "code",
   "execution_count": 7,
   "metadata": {},
   "outputs": [
    {
     "data": {
      "text/plain": [
       "['NK', 'Macrophage', 'T.CD8', 'B.cell', 'T.CD4', 'Neg.cell']"
      ]
     },
     "execution_count": 7,
     "metadata": {},
     "output_type": "execute_result"
    }
   ],
   "source": [
    "order_plot = list(set(y_ground_truth_reference.values.reshape(1,-1)[0]))\n",
    "order_plot.extend(['Neg.cell'])\n",
    "order_plot"
   ]
  },
  {
   "cell_type": "markdown",
   "metadata": {},
   "source": [
    "## FULL MODEL"
   ]
  },
  {
   "cell_type": "code",
   "execution_count": 52,
   "metadata": {},
   "outputs": [
    {
     "name": "stdout",
     "output_type": "stream",
     "text": [
      "Loaded model!! ./models/NN/exper_melanoma/model_a2_reference_log1p_train_test_split_trained.h5\n",
      "Model: \"model_13\"\n",
      "_________________________________________________________________\n",
      "Layer (type)                 Output Shape              Param #   \n",
      "=================================================================\n",
      "layer1_input (InputLayer)    [(None, 2877)]            0         \n",
      "_________________________________________________________________\n",
      "layer1 (Dense)               (None, 93)                267654    \n",
      "_________________________________________________________________\n",
      "layer2 (Dense)               (None, 100)               9400      \n",
      "=================================================================\n",
      "Total params: 277,054\n",
      "Trainable params: 277,054\n",
      "Non-trainable params: 0\n",
      "_________________________________________________________________\n"
     ]
    }
   ],
   "source": [
    "model_ ='a2'\n",
    "_, model_encoding = srp.loading_model('./models/NN/exper_melanoma/model_'+model_+'_reference_log1p_train_test_split_trained.h5', -1)\n",
    "model_encoding.summary()"
   ]
  },
  {
   "cell_type": "code",
   "execution_count": 53,
   "metadata": {},
   "outputs": [],
   "source": [
    "encoding_query = model_encoding.predict(X_query)\n",
    "encoding_reference = model_encoding.predict(X_reference)"
   ]
  },
  {
   "cell_type": "code",
   "execution_count": 54,
   "metadata": {},
   "outputs": [
    {
     "name": "stdout",
     "output_type": "stream",
     "text": [
      "(3412, 100)\n",
      "(2761, 100)\n"
     ]
    }
   ],
   "source": [
    "print(encoding_query.shape)\n",
    "print(encoding_reference.shape)"
   ]
  },
  {
   "cell_type": "code",
   "execution_count": 56,
   "metadata": {},
   "outputs": [],
   "source": [
    "clf = LocalOutlierFactor(novelty=True)\n",
    "clf.fit(encoding_reference)\n",
    "\n",
    "df_score_query = pd.concat([ y_ground_truth_query, pd.DataFrame(clf.score_samples(encoding_query), columns=['score'])], axis=1)\n",
    "df_score_reference = pd.concat([ y_ground_truth_reference, pd.DataFrame(clf.score_samples(encoding_reference), columns=['score'])], axis=1)\n",
    "\n",
    "# Calculated threshold value\n",
    "threshold = np.mean(df_score_reference.groupby('cell_type').aggregate(['mean', 'std'])['score']['mean'] \n",
    "                    - df_score_reference.groupby('cell_type').aggregate(['mean', 'std'])['score']['std'])\n",
    "print('Threshold value from reference dataset, ', threshold)"
   ]
  },
  {
   "cell_type": "raw",
   "metadata": {},
   "source": [
    "fig, axes = plt.subplots(figsize=(6,4))#, dpi=100)\n",
    "sns.violinplot(x=\"cell_type\", y=\"score\", data=df_score)\n"
   ]
  },
  {
   "cell_type": "code",
   "execution_count": 58,
   "metadata": {},
   "outputs": [
    {
     "data": {
      "image/png": "[encoded data removed]",
      "text/plain": [
       "<Figure size 1080x360 with 2 Axes>"
      ]
     },
     "metadata": {
      "needs_background": "light"
     },
     "output_type": "display_data"
    }
   ],
   "source": [
    "fig, axes = plt.subplots(ncols=2, sharey=True, figsize=(15,5))#, dpi=100)\n",
    "sns.violinplot(x=\"cell_type\", y=\"score\", data=df_score_reference, ax=axes[0], order=order_plot[:-1])\n",
    "sns.violinplot(x=\"cell_type\", y=\"score\", data=df_score_query, ax=axes[1], order=order_plot)\n",
    "axes[0].axhline(threshold, color='crimson')\n",
    "axes[1].axhline(threshold, color='crimson')\n",
    "axes[0].set_title('for seen label')\n",
    "axes[1].set_title('with unseen label')\n",
    "axes[0].set(xlabel='', ylabel='similarity score')\n",
    "axes[1].set(xlabel='', ylabel='')\n",
    "fig.suptitle('Distribution of similarity of each cell type - '+model_+' design')\n",
    "plt.tight_layout()\n",
    "plt.savefig(os.path.join(loc_output, 'similarity_score_violin_'+model_+'.png'), dpi=300, bbox_inches = 'tight')"
   ]
  },
  {
   "cell_type": "raw",
   "metadata": {
    "jupyter": {
     "outputs_hidden": true
    }
   },
   "source": [
    "fig, axes = plt.subplots(ncols=2, sharey=True, figsize=(15,5))#, dpi=100)\n",
    "sns.swarmplot(x=\"cell_type\", y=\"score\", data=df_score_reference, ax=axes[0], order=order_plot[:-1])\n",
    "sns.swarmplot(x=\"cell_type\", y=\"score\", data=df_score_query, ax=axes[1], order=order_plot)\n",
    "axes[0].axhline(threshold, color='crimson')\n",
    "axes[1].axhline(threshold, color='crimson')\n",
    "axes[0].set_title('for seen label')\n",
    "axes[1].set_title('with unseen label')\n",
    "axes[0].set(xlabel='', ylabel='similarity score')\n",
    "axes[1].set(xlabel='', ylabel='')\n",
    "fig.suptitle('Distribution of similarity of each cell type')\n",
    "plt.tight_layout()\n",
    "plt.savefig(os.path.join(loc_output, 'similarity_score.png'), dpi=300, bbox_inches = 'tight')"
   ]
  },
  {
   "cell_type": "code",
   "execution_count": 59,
   "metadata": {},
   "outputs": [
    {
     "data": {
      "image/png": "[encoded data removed]",
      "text/plain": [
       "<Figure size 1080x360 with 2 Axes>"
      ]
     },
     "metadata": {
      "needs_background": "light"
     },
     "output_type": "display_data"
    }
   ],
   "source": [
    "fig, axes = plt.subplots(ncols=2, sharey=True, figsize=(15,5))#, dpi=100)\n",
    "sns.boxplot(x=\"cell_type\", y=\"score\", data=df_score_reference, ax=axes[0], order=order_plot[:-1])\n",
    "sns.boxplot(x=\"cell_type\", y=\"score\", data=df_score_query, ax=axes[1], order=order_plot)\n",
    "axes[0].axhline(threshold, color='crimson')\n",
    "axes[1].axhline(threshold, color='crimson')\n",
    "axes[0].set_title('for seen label')\n",
    "axes[1].set_title('with unseen label')\n",
    "axes[0].set(xlabel='', ylabel='similarity score')\n",
    "axes[1].set(xlabel='', ylabel='')\n",
    "fig.suptitle('Distribution of similarity of each cell type - '+model_+' design')\n",
    "plt.tight_layout()\n",
    "plt.savefig(os.path.join(loc_output, 'similarity_score_boxplot_'+model_+'.png'), dpi=300, bbox_inches = 'tight')"
   ]
  },
  {
   "cell_type": "code",
   "execution_count": 60,
   "metadata": {},
   "outputs": [
    {
     "data": {
      "text/plain": [
       "(3412, 3)"
      ]
     },
     "execution_count": 60,
     "metadata": {},
     "output_type": "execute_result"
    }
   ],
   "source": [
    "df_score_query['threshold'] = 'above'\n",
    "df_score_query.loc[df_score_query['score']<=threshold, 'threshold'] = 'below'\n",
    "df_score_query.shape"
   ]
  },
  {
   "cell_type": "code",
   "execution_count": 61,
   "metadata": {},
   "outputs": [
    {
     "name": "stdout",
     "output_type": "stream",
     "text": [
      "threshold  cell_type \n",
      "above      B.cell         209\n",
      "           Macrophage     109\n",
      "           NK              28\n",
      "           Neg.cell       648\n",
      "           T.CD4          240\n",
      "           T.CD8          497\n",
      "below      B.cell          36\n",
      "           Macrophage      17\n",
      "           Neg.cell      1580\n",
      "           T.CD4           17\n",
      "           T.CD8           31\n",
      "dtype: int64\n"
     ]
    },
    {
     "data": {
      "text/plain": [
       "threshold  cell_type \n",
       "above      B.cell         85.306122\n",
       "           Macrophage     86.507937\n",
       "           NK            100.000000\n",
       "           Neg.cell       29.084381\n",
       "           T.CD4          93.385214\n",
       "           T.CD8          94.128788\n",
       "below      B.cell         14.693878\n",
       "           Macrophage     13.492063\n",
       "           Neg.cell       70.915619\n",
       "           T.CD4           6.614786\n",
       "           T.CD8           5.871212\n",
       "dtype: float64"
      ]
     },
     "execution_count": 61,
     "metadata": {},
     "output_type": "execute_result"
    }
   ],
   "source": [
    "print(df_score_query.groupby(['threshold', 'cell_type']).size()) #/ df_score_query.groupby('cell_type').size()\n",
    "(df_score_query.groupby(['threshold', 'cell_type']).size() / df_score_query.groupby('cell_type').size())*100"
   ]
  },
  {
   "cell_type": "code",
   "execution_count": 51,
   "metadata": {},
   "outputs": [
    {
     "name": "stdout",
     "output_type": "stream",
     "text": [
      "threshold  cell_type \n",
      "above      B.cell         212\n",
      "           Macrophage     108\n",
      "           NK              25\n",
      "           Neg.cell       318\n",
      "           T.CD4          234\n",
      "           T.CD8          501\n",
      "below      B.cell          33\n",
      "           Macrophage      18\n",
      "           NK               3\n",
      "           Neg.cell      1910\n",
      "           T.CD4           23\n",
      "           T.CD8           27\n",
      "dtype: int64\n"
     ]
    },
    {
     "data": {
      "text/plain": [
       "threshold  cell_type \n",
       "above      B.cell        86.530612\n",
       "           Macrophage    85.714286\n",
       "           NK            89.285714\n",
       "           Neg.cell      14.272890\n",
       "           T.CD4         91.050584\n",
       "           T.CD8         94.886364\n",
       "below      B.cell        13.469388\n",
       "           Macrophage    14.285714\n",
       "           NK            10.714286\n",
       "           Neg.cell      85.727110\n",
       "           T.CD4          8.949416\n",
       "           T.CD8          5.113636\n",
       "dtype: float64"
      ]
     },
     "execution_count": 51,
     "metadata": {},
     "output_type": "execute_result"
    }
   ],
   "source": [
    "print(df_score_query.groupby(['threshold', 'cell_type']).size()) #/ df_score_query.groupby('cell_type').size()\n",
    "(df_score_query.groupby(['threshold', 'cell_type']).size() / df_score_query.groupby('cell_type').size())*100"
   ]
  },
  {
   "cell_type": "code",
   "execution_count": 48,
   "metadata": {},
   "outputs": [
    {
     "data": {
      "text/plain": [
       "threshold\n",
       "above    0.507327\n",
       "below    0.492673\n",
       "dtype: float64"
      ]
     },
     "execution_count": 48,
     "metadata": {},
     "output_type": "execute_result"
    }
   ],
   "source": [
    "df_score_query.groupby('threshold').size() / len(df_score_query)"
   ]
  },
  {
   "cell_type": "code",
   "execution_count": 47,
   "metadata": {},
   "outputs": [
    {
     "data": {
      "text/plain": [
       "3412"
      ]
     },
     "execution_count": 47,
     "metadata": {},
     "output_type": "execute_result"
    }
   ],
   "source": [
    "len(df_score_query)"
   ]
  },
  {
   "cell_type": "markdown",
   "metadata": {},
   "source": [
    "## LOGO"
   ]
  },
  {
   "cell_type": "code",
   "execution_count": 34,
   "metadata": {},
   "outputs": [
    {
     "name": "stdout",
     "output_type": "stream",
     "text": [
      "Loaded model!! ./models/NN/exper_melanoma/model_a2_reference_log1p_LOGO_0.h5\n",
      "Loaded model!! ./models/NN/exper_melanoma/model_a2_reference_log1p_LOGO_1.h5\n",
      "Loaded model!! ./models/NN/exper_melanoma/model_a2_reference_log1p_LOGO_2.h5\n",
      "Loaded model!! ./models/NN/exper_melanoma/model_a2_reference_log1p_LOGO_3.h5\n",
      "Loaded model!! ./models/NN/exper_melanoma/model_a2_reference_log1p_LOGO_4.h5\n"
     ]
    }
   ],
   "source": [
    "LOGO_encoding_q = pd.DataFrame()\n",
    "LOGO_encoding_r = pd.DataFrame()\n",
    "model_ ='a2'\n",
    "\n",
    "for i_ in range(5):\n",
    "    _, model_encoding = srp.loading_model('./models/NN/exper_melanoma/model_'+model_+'_reference_log1p_LOGO_'+str(i_)+'.h5', -1)\n",
    "    encoding_prediction_q = model_encoding.predict(X_query)\n",
    "    encoding_prediction_r = model_encoding.predict(X_reference)\n",
    "    LOGO_encoding_q = pd.concat([LOGO_encoding_q, pd.DataFrame(encoding_prediction_q)], axis=1)\n",
    "    LOGO_encoding_r = pd.concat([LOGO_encoding_r, pd.DataFrame(encoding_prediction_r)], axis=1)"
   ]
  },
  {
   "cell_type": "code",
   "execution_count": 35,
   "metadata": {},
   "outputs": [
    {
     "data": {
      "text/plain": [
       "(3412, 500)"
      ]
     },
     "execution_count": 35,
     "metadata": {},
     "output_type": "execute_result"
    }
   ],
   "source": [
    "LOGO_encoding_q.shape"
   ]
  },
  {
   "cell_type": "code",
   "execution_count": 36,
   "metadata": {},
   "outputs": [
    {
     "name": "stdout",
     "output_type": "stream",
     "text": [
      "Threshold value from reference dataset,  -1.30821835200252\n"
     ]
    }
   ],
   "source": [
    "clf = LocalOutlierFactor(novelty=True)\n",
    "clf.fit(LOGO_encoding_r)\n",
    "\n",
    "df_score_query = pd.concat([ y_ground_truth_query, pd.DataFrame(clf.score_samples(LOGO_encoding_q), columns=['score'])], axis=1)\n",
    "df_score_reference = pd.concat([ y_ground_truth_reference, pd.DataFrame(clf.score_samples(LOGO_encoding_r), columns=['score'])], axis=1)\n",
    "\n",
    "# Calculated threshold value\n",
    "threshold = np.mean(df_score_reference.groupby('cell_type').aggregate(['mean', 'std'])['score']['mean'] \n",
    "                    - df_score_reference.groupby('cell_type').aggregate(['mean', 'std'])['score']['std'])\n",
    "print('Threshold value from reference dataset, ', threshold)"
   ]
  },
  {
   "cell_type": "code",
   "execution_count": 37,
   "metadata": {},
   "outputs": [
    {
     "data": {
      "image/png": "[encoded data removed]",
      "text/plain": [
       "<Figure size 1080x360 with 2 Axes>"
      ]
     },
     "metadata": {
      "needs_background": "light"
     },
     "output_type": "display_data"
    }
   ],
   "source": [
    "fig, axes = plt.subplots(ncols=2, sharey=True, figsize=(15,5))#, dpi=100)\n",
    "sns.boxplot(x=\"cell_type\", y=\"score\", data=df_score_reference, ax=axes[0], order=order_plot[:-1])\n",
    "sns.boxplot(x=\"cell_type\", y=\"score\", data=df_score_query, ax=axes[1], order=order_plot)\n",
    "axes[0].axhline(threshold, color='crimson')\n",
    "axes[1].axhline(threshold, color='crimson')\n",
    "axes[0].set_title('for seen label')\n",
    "axes[1].set_title('with unseen label')\n",
    "axes[0].set(xlabel='', ylabel='similarity score')\n",
    "axes[1].set(xlabel='', ylabel='')\n",
    "fig.suptitle('Distribution of similarity of LOGO models - '+model_+' design')\n",
    "plt.tight_layout()\n",
    "plt.savefig(os.path.join(loc_output, 'similarity_score_LOGO_boxplot_'+model_+'.png'), dpi=300, bbox_inches = 'tight')"
   ]
  },
  {
   "cell_type": "code",
   "execution_count": 38,
   "metadata": {},
   "outputs": [
    {
     "data": {
      "text/plain": [
       "(3412, 3)"
      ]
     },
     "execution_count": 38,
     "metadata": {},
     "output_type": "execute_result"
    }
   ],
   "source": [
    "df_score_query['threshold'] = 'above'\n",
    "df_score_query.loc[df_score_query['score']<=threshold, 'threshold'] = 'below'\n",
    "df_score_query.shape"
   ]
  },
  {
   "cell_type": "code",
   "execution_count": 33,
   "metadata": {},
   "outputs": [
    {
     "name": "stdout",
     "output_type": "stream",
     "text": [
      "threshold  cell_type \n",
      "above      B.cell         220\n",
      "           Macrophage     109\n",
      "           NK              21\n",
      "           Neg.cell        81\n",
      "           T.CD4          233\n",
      "           T.CD8          499\n",
      "below      B.cell          25\n",
      "           Macrophage      17\n",
      "           NK               7\n",
      "           Neg.cell      2147\n",
      "           T.CD4           24\n",
      "           T.CD8           29\n",
      "dtype: int64\n"
     ]
    },
    {
     "data": {
      "text/plain": [
       "threshold  cell_type \n",
       "above      B.cell        89.795918\n",
       "           Macrophage    86.507937\n",
       "           NK            75.000000\n",
       "           Neg.cell       3.635548\n",
       "           T.CD4         90.661479\n",
       "           T.CD8         94.507576\n",
       "below      B.cell        10.204082\n",
       "           Macrophage    13.492063\n",
       "           NK            25.000000\n",
       "           Neg.cell      96.364452\n",
       "           T.CD4          9.338521\n",
       "           T.CD8          5.492424\n",
       "dtype: float64"
      ]
     },
     "execution_count": 33,
     "metadata": {},
     "output_type": "execute_result"
    }
   ],
   "source": [
    "print(df_score_query.groupby(['threshold', 'cell_type']).size()) #/ df_score_query.groupby('cell_type').size()\n",
    "(df_score_query.groupby(['threshold', 'cell_type']).size() / df_score_query.groupby('cell_type').size())*100"
   ]
  },
  {
   "cell_type": "code",
   "execution_count": 39,
   "metadata": {},
   "outputs": [
    {
     "name": "stdout",
     "output_type": "stream",
     "text": [
      "threshold  cell_type \n",
      "above      B.cell         215\n",
      "           Macrophage     113\n",
      "           NK              25\n",
      "           Neg.cell       144\n",
      "           T.CD4          231\n",
      "           T.CD8          508\n",
      "below      B.cell          30\n",
      "           Macrophage      13\n",
      "           NK               3\n",
      "           Neg.cell      2084\n",
      "           T.CD4           26\n",
      "           T.CD8           20\n",
      "dtype: int64\n"
     ]
    },
    {
     "data": {
      "text/plain": [
       "threshold  cell_type \n",
       "above      B.cell        87.755102\n",
       "           Macrophage    89.682540\n",
       "           NK            89.285714\n",
       "           Neg.cell       6.463196\n",
       "           T.CD4         89.883268\n",
       "           T.CD8         96.212121\n",
       "below      B.cell        12.244898\n",
       "           Macrophage    10.317460\n",
       "           NK            10.714286\n",
       "           Neg.cell      93.536804\n",
       "           T.CD4         10.116732\n",
       "           T.CD8          3.787879\n",
       "dtype: float64"
      ]
     },
     "execution_count": 39,
     "metadata": {},
     "output_type": "execute_result"
    }
   ],
   "source": [
    "#A2\n",
    "print(df_score_query.groupby(['threshold', 'cell_type']).size()) #/ df_score_query.groupby('cell_type').size()\n",
    "(df_score_query.groupby(['threshold', 'cell_type']).size() / df_score_query.groupby('cell_type').size())*100"
   ]
  },
  {
   "cell_type": "code",
   "execution_count": null,
   "metadata": {},
   "outputs": [],
   "source": []
  }
 ],
 "metadata": {
  "kernelspec": {
   "display_name": "Python 3",
   "language": "python",
   "name": "python3"
  },
  "language_info": {
   "codemirror_mode": {
    "name": "ipython",
    "version": 3
   },
   "file_extension": ".py",
   "mimetype": "text/x-python",
   "name": "python",
   "nbconvert_exporter": "python",
   "pygments_lexer": "ipython3",
   "version": "3.7.9"
  }
 },
 "nbformat": 4,
 "nbformat_minor": 4
}
