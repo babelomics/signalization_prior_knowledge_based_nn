{
 "cells": [
  {
   "cell_type": "code",
   "execution_count": 1,
   "metadata": {},
   "outputs": [
    {
     "name": "stdout",
     "output_type": "stream",
     "text": [
      "**** scripts/config.py IMPORTED!!!\n",
      "**** PROJECT FOLDER ,  /home/pgundogdu/projects/signalization_prior_knowledge_based_nn\n",
      "IMPORTANT FOLDER,  /home/pgundogdu/projects/signalization_prior_knowledge_based_nn/data/external/exper_mouse\n",
      "DATA_DIR, /home/pgundogdu/projects/data\n",
      "\n",
      "FILE for USING RETRIEVAL ANALYSIS IS  /home/pgundogdu/projects/signalization_prior_knowledge_based_nn/data/external/exper_mouse/3-33_integrated_retrieval_set.txt\n"
     ]
    }
   ],
   "source": [
    "#!/usr/bin/env python\n",
    "\n",
    "'''\n",
    "DESCRIPTION\n",
    "-----------\n",
    "    LocalOutlierFactor with trained model\n",
    "\n",
    "RETURN\n",
    "------\n",
    "    {DATASET}_lof_seen.png : png file\n",
    "        Similarity scores of seen label\n",
    "    {DATASET}_lof_seen.png : png file\n",
    "        Similarity score of unseen label\n",
    "\n",
    "EXPORTED FILE(s) LOCATION\n",
    "-------------------------\n",
    "    ./reports/retrieval/{EXPERIMENT}/{DATASET}_lof_seen.png\n",
    "    ./reports/retrieval/{EXPERIMENT}/{DATASET}_lof_unseen.png\n",
    "'''\n",
    "\n",
    "# importing default libraries\n",
    "import os, argparse, sys\n",
    "# sys.path.append('./')\n",
    "ROOT_DIR = os.path.dirname(os.path.dirname(os.path.abspath('__file__')))\n",
    "os.chdir(ROOT_DIR)\n",
    "sys.path.append(ROOT_DIR)\n",
    "# importing scripts in scripts folder\n",
    "from scripts import config as src"
   ]
  },
  {
   "cell_type": "code",
   "execution_count": 2,
   "metadata": {},
   "outputs": [],
   "source": [
    "import pandas as pd\n",
    "import numpy as np\n",
    "import seaborn as sns\n",
    "import matplotlib.pyplot as plt\n",
    "\n",
    "import warnings\n",
    "warnings.filterwarnings('ignore')\n",
    "import glob\n"
   ]
  },
  {
   "cell_type": "code",
   "execution_count": 3,
   "metadata": {},
   "outputs": [],
   "source": [
    "loc_output = './reports/clustering/exper_mouse/'\n",
    "df_result = pd.DataFrame()\n",
    "for i in sorted(glob.glob('./reports/clustering/exper_mouse/metrics*')):\n",
    "    df_result = pd.concat([df_result, pd.read_csv(i)])\n",
    "    "
   ]
  },
  {
   "cell_type": "code",
   "execution_count": 4,
   "metadata": {},
   "outputs": [],
   "source": [
    "for i_co in sorted(set(df_result['cell_out'])):\n",
    "    df_temp = df_result[(df_result['cell_out']==i_co)]\n",
    "    df_temp.to_csv(os.path.join(loc_output, f'metrics_{i_co}.csv'))"
   ]
  }
 ],
 "metadata": {
  "kernelspec": {
   "display_name": "Python 3",
   "language": "python",
   "name": "python3"
  },
  "language_info": {
   "codemirror_mode": {
    "name": "ipython",
    "version": 3
   },
   "file_extension": ".py",
   "mimetype": "text/x-python",
   "name": "python",
   "nbconvert_exporter": "python",
   "pygments_lexer": "ipython3",
   "version": "3.7.9"
  }
 },
 "nbformat": 4,
 "nbformat_minor": 4
}
