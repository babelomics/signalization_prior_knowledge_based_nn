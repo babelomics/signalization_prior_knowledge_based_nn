{
 "cells": [
  {
   "cell_type": "code",
   "execution_count": 1,
   "metadata": {},
   "outputs": [
    {
     "name": "stdout",
     "output_type": "stream",
     "text": [
      "scripts/settings.py - PATHS IMPORTED!!!\n"
     ]
    }
   ],
   "source": [
    "#!/usr/bin/env python\n",
    "\n",
    "'''\n",
    "DESCRIPTION\n",
    "-----------\n",
    "    Overview datasets\n",
    "'''\n",
    "\n",
    "# importing default libraries\n",
    "# import os, argparse, sys\n",
    "# sys.path.append('./')\n",
    "import os, sys\n",
    "ROOT_DIR = os.path.dirname(os.path.dirname(os.path.abspath('__file__')))\n",
    "os.chdir(ROOT_DIR)\n",
    "sys.path.append(ROOT_DIR)\n",
    "# importing scripts in scripts folder\n",
    "from scripts import settings as ssrp, dataset_scripts as dsrp, path_scripts as psrp, model_scripts as msrp, nn_design_scripts as nnsrp\n",
    "# importing default libraries\n",
    "import pandas as pd\n",
    "import numpy as np\n",
    "import warnings\n",
    "warnings.filterwarnings('ignore')\n"
   ]
  },
  {
   "cell_type": "markdown",
   "metadata": {},
   "source": [
    "## HUMAN"
   ]
  },
  {
   "cell_type": "code",
   "execution_count": 2,
   "metadata": {},
   "outputs": [
    {
     "name": "stdout",
     "output_type": "stream",
     "text": [
      "(3412, 2878)\n"
     ]
    },
    {
     "data": {
      "text/plain": [
       "cell_type\n",
       "B.cell         245\n",
       "Macrophage     126\n",
       "NK              28\n",
       "Neg.cell      2228\n",
       "T.CD4          257\n",
       "T.CD8          528\n",
       "dtype: int64"
      ]
     },
     "execution_count": 2,
     "metadata": {},
     "output_type": "execute_result"
    }
   ],
   "source": [
    "df_query = pd.read_pickle('./data/processed/exper_human/query_log1p.pck')\n",
    "print(df_query.shape)\n",
    "df_query.groupby('cell_type').size()"
   ]
  },
  {
   "cell_type": "code",
   "execution_count": 3,
   "metadata": {},
   "outputs": [
    {
     "name": "stdout",
     "output_type": "stream",
     "text": [
      "(2761, 2878)\n"
     ]
    },
    {
     "data": {
      "text/plain": [
       "cell_type\n",
       "B.cell         573\n",
       "Macrophage     294\n",
       "NK              64\n",
       "T.CD4          599\n",
       "T.CD8         1231\n",
       "dtype: int64"
      ]
     },
     "execution_count": 3,
     "metadata": {},
     "output_type": "execute_result"
    }
   ],
   "source": [
    "df_reference = pd.read_pickle('./data/processed/exper_human/reference_log1p.pck')\n",
    "print(df_reference.shape)\n",
    "df_reference.groupby('cell_type').size()"
   ]
  },
  {
   "cell_type": "markdown",
   "metadata": {},
   "source": [
    "## MOUSE"
   ]
  },
  {
   "cell_type": "code",
   "execution_count": 4,
   "metadata": {},
   "outputs": [
    {
     "name": "stdout",
     "output_type": "stream",
     "text": [
      "(402, 1646)\n"
     ]
    },
    {
     "data": {
      "text/plain": [
       "cell_type\n",
       "16cell        54\n",
       "4cell         14\n",
       "8cell         47\n",
       "BMDC          18\n",
       "BXC           13\n",
       "C57twocell     8\n",
       "ES            49\n",
       "PrE           22\n",
       "early2cell     8\n",
       "earlyblast    43\n",
       "fibroblast    10\n",
       "late2cell     10\n",
       "lateblast     30\n",
       "mid2cell      12\n",
       "midblast      60\n",
       "zy             4\n",
       "dtype: int64"
      ]
     },
     "execution_count": 4,
     "metadata": {},
     "output_type": "execute_result"
    }
   ],
   "source": [
    "df_training = pd.read_pickle('./data/processed/exper_mouse/mouse_training_sw_StandardScaler.pck')\n",
    "print(df_training.shape)\n",
    "df_training.groupby('cell_type').size()"
   ]
  },
  {
   "cell_type": "code",
   "execution_count": 5,
   "metadata": {},
   "outputs": [
    {
     "name": "stdout",
     "output_type": "stream",
     "text": [
      "(17293, 1646)\n"
     ]
    },
    {
     "data": {
      "text/plain": [
       "cell_type\n",
       "16cell_              58\n",
       "2cell_               58\n",
       "2cell_NT_            22\n",
       "2cell_wildtype_       5\n",
       "4cell_               34\n",
       "                   ... \n",
       "thymus_NKT2          68\n",
       "thymus_mTEC         174\n",
       "transitional_        15\n",
       "zygote_              13\n",
       "zygote_wildtype_      5\n",
       "Length: 74, dtype: int64"
      ]
     },
     "execution_count": 5,
     "metadata": {},
     "output_type": "execute_result"
    }
   ],
   "source": [
    "df_retrieval = pd.read_pickle('./data/processed/exper_mouse/mouse_retrieval_sw_StandardScaler.pck')\n",
    "print(df_retrieval.shape)\n",
    "df_retrieval.groupby('cell_type').size()"
   ]
  },
  {
   "cell_type": "markdown",
   "metadata": {},
   "source": [
    "## PBMC"
   ]
  },
  {
   "cell_type": "code",
   "execution_count": 6,
   "metadata": {},
   "outputs": [
    {
     "name": "stdout",
     "output_type": "stream",
     "text": [
      "(17500, 1927)\n"
     ]
    },
    {
     "data": {
      "text/plain": [
       "cell_type\n",
       "CD14      2500\n",
       "CD19      2500\n",
       "CD34      2500\n",
       "CD56      2500\n",
       "Cyt       2500\n",
       "Memory    2500\n",
       "Treg      2500\n",
       "dtype: int64"
      ]
     },
     "execution_count": 6,
     "metadata": {},
     "output_type": "execute_result"
    }
   ],
   "source": [
    "df_pbmc = pd.read_pickle('./data/processed/exper_pbmc/Immune_magic_no_scale.pck')\n",
    "print(df_pbmc.shape)\n",
    "df_pbmc.groupby('cell_type').size()"
   ]
  }
 ],
 "metadata": {
  "kernelspec": {
   "display_name": "Python 3",
   "language": "python",
   "name": "python3"
  },
  "language_info": {
   "codemirror_mode": {
    "name": "ipython",
    "version": 3
   },
   "file_extension": ".py",
   "mimetype": "text/x-python",
   "name": "python",
   "nbconvert_exporter": "python",
   "pygments_lexer": "ipython3",
   "version": "3.7.9"
  }
 },
 "nbformat": 4,
 "nbformat_minor": 4
}
