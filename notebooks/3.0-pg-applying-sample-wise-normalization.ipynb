{
 "cells": [
  {
   "cell_type": "code",
   "execution_count": 1,
   "metadata": {},
   "outputs": [
    {
     "name": "stdout",
     "output_type": "stream",
     "text": [
      "**** scripts/config.py IMPORTED!!!\n",
      "**** PROJECT FOLDER ,  /home/pgundogdu/projects/signalization_prior_knowledge_based_nn\n"
     ]
    }
   ],
   "source": [
    "#!/usr/bin/env python\n",
    "\n",
    "'''\n",
    "DESCRIPTION\n",
    "-----------\n",
    "    Applying sample-wise normalization into dataset\n",
    "    \n",
    "RETURN\n",
    "------\n",
    "    {DATASET_ss}.pck : pck file\n",
    "        A pickle file which applied sample-wise normalization\n",
    "\n",
    "EXPORTED FILE(s) LOCATION\n",
    "-------------------------\n",
    "    ./data/processed/{EXPERIMENT}/{DATASET_sw}.pck\n",
    "'''\n",
    "\n",
    "# importing default libraries\n",
    "# import os, argparse, sys\n",
    "# sys.path.append('./')\n",
    "import os, sys\n",
    "ROOT_DIR = os.path.dirname(os.path.dirname(os.path.abspath('__file__')))\n",
    "os.chdir(ROOT_DIR)\n",
    "sys.path.append(ROOT_DIR)\n",
    "# importing scripts in scripts folder\n",
    "from scripts import config as src\n",
    "# importing default libraries\n",
    "import pandas as pd\n",
    "import numpy as np\n",
    "import warnings\n",
    "warnings.filterwarnings('ignore')\n"
   ]
  },
  {
   "cell_type": "code",
   "execution_count": 3,
   "metadata": {},
   "outputs": [
    {
     "name": "stdout",
     "output_type": "stream",
     "text": [
      "FOLDER information,  /home/pgundogdu/projects/signalization_prior_knowledge_based_nn/data/processed/exper_immune/\n"
     ]
    },
    {
     "data": {
      "text/plain": [
       "'/home/pgundogdu/projects/signalization_prior_knowledge_based_nn/data/processed/exper_immune/'"
      ]
     },
     "execution_count": 3,
     "metadata": {},
     "output_type": "execute_result"
    }
   ],
   "source": [
    "# MOUSE\n",
    "# dataset              = 'mouse_training.pck'\n",
    "dataset              = 'Fig3g.pck'\n",
    "experiment           = 'exper_immune'\n",
    "\n",
    "# the output location\n",
    "loc_output = os.path.join(src.DIR_DATA_PROCESSED, experiment)\n",
    "src.define_folder(loc_=loc_output)"
   ]
  },
  {
   "cell_type": "code",
   "execution_count": 5,
   "metadata": {},
   "outputs": [
    {
     "name": "stdout",
     "output_type": "stream",
     "text": [
      "FILE FORMAT,  pck\n",
      "<class 'pandas.core.frame.DataFrame'>\n",
      "RangeIndex: 9703 entries, 0 to 9702\n",
      "Columns: 16901 entries, A1BG to label_1\n",
      "dtypes: float64(16900), object(1)\n",
      "memory usage: 1.2+ GB\n",
      "    -> sample wise normalization implemented!\n",
      "file exported!!, in  /home/pgundogdu/projects/signalization_prior_knowledge_based_nn/data/processed/exper_immune/Fig3g_sw.pck\n"
     ]
    }
   ],
   "source": [
    "print('FILE FORMAT, ', dataset.split('.')[1])\n",
    "\n",
    "if dataset.split('.')[1]=='pck':\n",
    "    df_raw = pd.read_pickle(os.path.join(src.DIR_DATA_EXTERNAL, experiment, dataset))\n",
    "    df_raw = pd.concat([(df_raw.iloc[:, :-1]).astype(float) ,df_raw.iloc[:, -1]], axis=1)\n",
    "else:\n",
    "    df_raw = pd.read_csv(os.path.join(src.DIR_DATA_EXTERNAL, experiment, dataset))\n",
    "    \n",
    "df_raw.info()\n",
    "\n",
    "df_sw = src.sample_wise_normalization(df_raw, -1)\n",
    "df_sw.to_pickle(os.path.join(loc_output, (dataset.split('.')[0]+'_sw.pck') ))\n",
    "print('file exported!!, in ', os.path.join(loc_output, (dataset.split('.')[0]+'_sw.pck') ))"
   ]
  },
  {
   "cell_type": "code",
   "execution_count": null,
   "metadata": {},
   "outputs": [],
   "source": []
  },
  {
   "cell_type": "code",
   "execution_count": null,
   "metadata": {},
   "outputs": [],
   "source": []
  },
  {
   "cell_type": "code",
   "execution_count": null,
   "metadata": {},
   "outputs": [],
   "source": []
  },
  {
   "cell_type": "code",
   "execution_count": null,
   "metadata": {},
   "outputs": [],
   "source": []
  },
  {
   "cell_type": "code",
   "execution_count": null,
   "metadata": {},
   "outputs": [],
   "source": []
  },
  {
   "cell_type": "code",
   "execution_count": null,
   "metadata": {},
   "outputs": [],
   "source": []
  },
  {
   "cell_type": "code",
   "execution_count": null,
   "metadata": {},
   "outputs": [],
   "source": []
  }
 ],
 "metadata": {
  "kernelspec": {
   "display_name": "Python 3",
   "language": "python",
   "name": "python3"
  },
  "language_info": {
   "codemirror_mode": {
    "name": "ipython",
    "version": 3
   },
   "file_extension": ".py",
   "mimetype": "text/x-python",
   "name": "python",
   "nbconvert_exporter": "python",
   "pygments_lexer": "ipython3",
   "version": "3.7.9"
  }
 },
 "nbformat": 4,
 "nbformat_minor": 4
}
